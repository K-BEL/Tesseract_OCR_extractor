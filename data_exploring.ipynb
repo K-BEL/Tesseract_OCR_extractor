{
 "cells": [
  {
   "cell_type": "code",
   "execution_count": 11,
   "metadata": {},
   "outputs": [],
   "source": [
    "import cv2\n",
    "import numpy as np\n",
    "import pandas as pd\n",
    "\n",
    "import skimage.filters as filters\n",
    "import matplotlib.pyplot as plt\n",
    "from PIL import Image, ImageEnhance\n",
    "import PIL.Image\n",
    "\n",
    "import os, random, pathlib, warnings, itertools, math\n",
    "warnings.filterwarnings(\"ignore\")"
   ]
  },
  {
   "cell_type": "code",
   "execution_count": 12,
   "metadata": {},
   "outputs": [],
   "source": [
    "Testing_Data = r'C:\\Users\\LENOVO\\Desktop\\OCR_extraction\\Image_extraction\\Testing_Data'\n",
    "Testing_Data = pathlib.Path(Testing_Data)\n",
    "Front = list(Testing_Data.glob('Front/*'))\n",
    "Back = list(Testing_Data.glob('Back/*'))"
   ]
  },
  {
   "cell_type": "code",
   "execution_count": null,
   "metadata": {},
   "outputs": [],
   "source": [
    "Front[:5]"
   ]
  },
  {
   "cell_type": "code",
   "execution_count": null,
   "metadata": {},
   "outputs": [],
   "source": [
    "str(Front[:5])"
   ]
  },
  {
   "cell_type": "code",
   "execution_count": 15,
   "metadata": {},
   "outputs": [
    {
     "data": {
      "text/plain": [
       "['Back', 'Front']"
      ]
     },
     "execution_count": 15,
     "metadata": {},
     "output_type": "execute_result"
    }
   ],
   "source": [
    "classes = []\n",
    "for folder in os.listdir(Testing_Data):\n",
    "    classes.append(folder)\n",
    "classes"
   ]
  },
  {
   "cell_type": "code",
   "execution_count": null,
   "metadata": {},
   "outputs": [],
   "source": [
    "size = 500, 300\n",
    "im = PIL.Image.open(str(Front[1]))\n",
    "im.resize(size, Image.ANTIALIAS)"
   ]
  },
  {
   "cell_type": "code",
   "execution_count": null,
   "metadata": {},
   "outputs": [],
   "source": [
    "def plot(data_directory,number_of_images,image_folder):\n",
    "    j=1\n",
    "    for i in range(number_of_images):\n",
    "    \n",
    "        folder = os.path.join(data_directory,image_folder)\n",
    "        a=random.choice(os.listdir(folder))\n",
    "        image=PIL.Image.open(os.path.join(folder,a))\n",
    "        plt.figure(figsize=(10,10))\n",
    "        plt.subplot(number_of_images,2,j)\n",
    "        plt.title(label=image_folder, size=17, pad='7.0', loc=\"center\", fontstyle='italic')\n",
    "        plt.imshow(image)\n",
    "        j+=1\n",
    "\n",
    "for j in classes :       \n",
    "    plot(Testing_Data,1,j)"
   ]
  },
  {
   "cell_type": "code",
   "execution_count": 18,
   "metadata": {},
   "outputs": [],
   "source": [
    "while True :\n",
    "    while True :   \n",
    "            a=random.choice(os.listdir(Testing_Data))\n",
    "            folder = os.path.join(Testing_Data,a)\n",
    "            break\n",
    "    b=random.choice(os.listdir(folder))\n",
    "    image=PIL.Image.open(os.path.join(folder,b))\n",
    "    image_duplicate=image.copy()\n",
    "    #image=ImageEnhance.Color(image_duplicate).enhance(1.35)\n",
    "    #image=ImageEnhance.Contrast(image1).enhance(1.45)\n",
    "    #image=ImageEnhance.Sharpness(image1).enhance(2.5)\n",
    "    numpy_image=np.array(image)  \n",
    "    #orig1 = cv2.cvtColor(numpy_image, cv2.COLOR_BGR2RGB)\n",
    "    break"
   ]
  },
  {
   "cell_type": "code",
   "execution_count": 19,
   "metadata": {},
   "outputs": [],
   "source": [
    "orig1 = cv2.imread(r'C:\\Users\\LENOVO\\Desktop\\OCR_extraction\\Image_extraction\\Testing_Data\\Front\\Ec5Q4WsAAOq7q.jpg')"
   ]
  },
  {
   "cell_type": "code",
   "execution_count": null,
   "metadata": {},
   "outputs": [],
   "source": [
    "plt.imshow(orig1)"
   ]
  }
 ],
 "metadata": {
  "interpreter": {
   "hash": "8b03d4cd05d71d535371b426da57de743181e37d8974a9636efe6e78873daaed"
  },
  "kernelspec": {
   "display_name": "Python 3.9.5 64-bit",
   "language": "python",
   "name": "python3"
  },
  "language_info": {
   "codemirror_mode": {
    "name": "ipython",
    "version": 3
   },
   "file_extension": ".py",
   "mimetype": "text/x-python",
   "name": "python",
   "nbconvert_exporter": "python",
   "pygments_lexer": "ipython3",
   "version": "3.9.5"
  },
  "orig_nbformat": 4
 },
 "nbformat": 4,
 "nbformat_minor": 2
}

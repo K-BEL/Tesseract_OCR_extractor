{
 "cells": [
  {
   "cell_type": "code",
   "execution_count": 1,
   "metadata": {},
   "outputs": [],
   "source": [
    "import cv2\n",
    "import numpy as np\n",
    "import pandas as pd\n",
    "\n",
    "import pytesseract\n",
    "from pytesseract import Output\n",
    "\n",
    "import re\n",
    "\n",
    "import skimage.filters as filters\n",
    "import matplotlib.pyplot as plt\n",
    "from PIL import Image, ImageEnhance\n",
    "import PIL.Image\n",
    "\n",
    "import os, random, pathlib, warnings, itertools, math, imutils\n",
    "warnings.filterwarnings(\"ignore\")\n",
    "\n",
    "import import_ipynb\n",
    "#from ipynb.fs.full.data_exploring import orig1"
   ]
  },
  {
   "cell_type": "code",
   "execution_count": 2,
   "metadata": {},
   "outputs": [],
   "source": [
    "pytesseract.pytesseract.tesseract_cmd = r'C:\\Program Files\\Tesseract-OCR\\tesseract.exe'"
   ]
  },
  {
   "cell_type": "code",
   "execution_count": 3,
   "metadata": {},
   "outputs": [],
   "source": [
    "rectKernel = cv2.getStructuringElement(cv2.MORPH_RECT, (13, 5))\n",
    "sqKernel = cv2.getStructuringElement(cv2.MORPH_RECT, (21, 21))"
   ]
  },
  {
   "cell_type": "code",
   "execution_count": 4,
   "metadata": {},
   "outputs": [],
   "source": [
    "img = cv2.imread(r'C:\\Users\\LENOVO\\Desktop\\OCR_extraction\\Image_extraction\\Testing_Data\\Front\\gk.jpg')\n",
    "orig1 = img"
   ]
  },
  {
   "cell_type": "code",
   "execution_count": 5,
   "metadata": {},
   "outputs": [],
   "source": [
    "mask = np.zeros(orig1.shape, dtype=np.uint8)\n",
    "\n",
    "gray = cv2.cvtColor(orig1, cv2.COLOR_BGR2GRAY)\n",
    "\n",
    "smooth = cv2.GaussianBlur(gray, (95,95), 0)\n",
    "\n",
    "rgb = cv2.cvtColor(orig1, cv2.COLOR_BGR2RGB)\n",
    "\n",
    "rgb1 = Image.frombytes('RGB', orig1.shape[:2], orig1, 'raw', 'BGR', 0, 0)\n",
    "\n",
    "division = cv2.divide(gray, smooth, scale=255)\n",
    "\n",
    "sharp = filters.unsharp_mask(division, radius=1.5, amount=1.5, channel_axis=False, preserve_range=False)\n",
    "\n",
    "sharp = (255*sharp).clip(0,255).astype(np.uint8)\n",
    "\n",
    "#thresh = cv2.threshold(sharp, 0, 255, cv2.THRESH_BINARY + cv2.THRESH_OTSU)[1]"
   ]
  },
  {
   "cell_type": "code",
   "execution_count": 6,
   "metadata": {},
   "outputs": [],
   "source": [
    "smooth = cv2.GaussianBlur(gray, (3, 3), 0)#blurring(3x3) to reduce noise and for smoothening\n",
    "\n",
    "blackhat = cv2.morphologyEx(smooth, cv2.MORPH_BLACKHAT, sqKernel)#used to enhance dark objects on a light background\n",
    "\n",
    "gradX = cv2.Sobel(blackhat, ddepth=cv2.CV_32F, dx=1, dy=0, ksize=-1)#GRADIENT IN X DIRECTION \n",
    "\n",
    "gradX = np.absolute(gradX)#CHANGING ARRAY TO ABSOLUTE VALUES\n",
    "\n",
    "(minVal, maxVal) = (np.min(gradX), np.max(gradX))#finding min value and max value in the matrix\n",
    "\n",
    "gradX = (255 * ((gradX - minVal) / (maxVal - minVal))).astype(\"uint8\")\n",
    "\n",
    "gradX = cv2.morphologyEx(gradX, cv2.MORPH_CLOSE, rectKernel)#gives outline\n",
    "\n",
    "thresh = cv2.threshold(gradX, 0, 255, cv2.THRESH_BINARY | cv2.THRESH_OTSU)[1]\n",
    "\n",
    "thresh = cv2.morphologyEx(thresh, cv2.MORPH_CLOSE, sqKernel)\n",
    "\n",
    "thresh = cv2.erode(thresh, None, iterations=4)"
   ]
  },
  {
   "cell_type": "code",
   "execution_count": 7,
   "metadata": {},
   "outputs": [],
   "source": [
    "#cv2.imshow('thresh', thresh)\n",
    "#cv2.imshow('mask', mask)"
   ]
  },
  {
   "cell_type": "code",
   "execution_count": null,
   "metadata": {},
   "outputs": [],
   "source": [
    "plt.imshow(thresh,'gray')\n",
    "# Filter for ROI using contour area and aspect ratio\n",
    "cnts = cv2.findContours(thresh, cv2.RETR_TREE, cv2.CHAIN_APPROX_SIMPLE)\n",
    "cnts = cnts[0] if len(cnts) == 2 else cnts[1]\n",
    "for c in cnts:\n",
    "    area = cv2.contourArea(c)\n",
    "    peri = cv2.arcLength(c, True)\n",
    "    approx = cv2.approxPolyDP(c, 0.05 * peri, True)\n",
    "    x,y,w,h = cv2.boundingRect(approx)\n",
    "    aspect_ratio = w / float(h)\n",
    "    if area > 2000 and aspect_ratio > .5:\n",
    "        mask[y:y+h, x:x+w] = orig1[y:y+h, x:x+w]\n",
    "        cv2.rectangle(orig1, (x, y), (x + w, y + h), (0, 255, 0), 2)"
   ]
  },
  {
   "cell_type": "code",
   "execution_count": 8,
   "metadata": {},
   "outputs": [],
   "source": [
    "p = int(orig1.shape[1] * 0.05)\n",
    "#print(p)\n",
    "thresh[:, 0:p] = 0\n",
    "thresh[:, orig1.shape[1] - p:] = 0\n",
    "cnts = cv2.findContours(thresh.copy(), cv2.RETR_EXTERNAL,cv2.CHAIN_APPROX_SIMPLE)\n",
    "#cv2_imshow(cnts)\n",
    "#print(cnts)\n",
    "cnts = imutils.grab_contours(cnts)\n",
    "cnts = sorted(cnts, key=cv2.contourArea, reverse=True)\n",
    "\n",
    "for c in cnts:\n",
    "    (x, y, w, h) = cv2.boundingRect(c)\n",
    "    ar = w / float(h)\n",
    "    crWidth = w / float(gray.shape[1])\n",
    "    pX = int((x + w) * 0.03)\n",
    "    pY = int((y + h) * 0.03)\n",
    "    (x, y) = (x - pX, y - pY)\n",
    "    (w, h) = (w + (pX * 2), h + (pY * 2))\n",
    "\n",
    "    roi = orig1[y:y + h, x:x + w].copy()\n",
    "    cv2.rectangle(orig1, (x, y), (x + w, y + h), (0, 255, 0), 2)\n",
    "    #filename=\"{}.jpg\".format(os.getpid())\n",
    "    #cv2.imwrite(filename,roi)"
   ]
  },
  {
   "cell_type": "code",
   "execution_count": null,
   "metadata": {},
   "outputs": [],
   "source": [
    "plt.imshow(orig1)"
   ]
  },
  {
   "cell_type": "code",
   "execution_count": 10,
   "metadata": {},
   "outputs": [],
   "source": [
    "thresh = cv2.threshold(sharp, 0, 255, cv2.THRESH_BINARY + cv2.THRESH_OTSU)[1]"
   ]
  },
  {
   "cell_type": "code",
   "execution_count": 11,
   "metadata": {},
   "outputs": [],
   "source": [
    "tessdata_dir_config = r'C:\\Program Files\\Tesseract-OCR\\tesseract.exe\\tessdata' \n",
    "tessdata_dir_config1 = r'C:\\Program Files\\Tesseract-OCR\\tesseract.exe\\tessdata_fast' \n",
    "custom_config0 = r'--oem 3 --psm 6'\n",
    "custom_config1 = r'--oem 3 --psm 11'\n",
    "custom_config2 = r'--oem 3 --psm 8'\n",
    "custom_config3 = r'--oem 3 --psm 6 outputbase digits'"
   ]
  },
  {
   "cell_type": "code",
   "execution_count": 12,
   "metadata": {},
   "outputs": [],
   "source": [
    "# Perfrom OCR with Pytesseract\n",
    "#text1 = pytesseract.image_to_data(thresh,output_type='data.frame',lang='fra', config=custom_config1)\n",
    "#text2 = pytesseract.image_to_string(thresh, lang='fra', config=custom_config1)  #mask or thresh \n",
    "text2 = pytesseract.image_to_string(thresh, lang='fra', config=tessdata_dir_config1)  #mask or thresh "
   ]
  },
  {
   "cell_type": "code",
   "execution_count": null,
   "metadata": {},
   "outputs": [],
   "source": [
    "print(text2)"
   ]
  },
  {
   "cell_type": "code",
   "execution_count": 14,
   "metadata": {},
   "outputs": [],
   "source": [
    "#nums = re.findall(r'^[A-Z]{3,}[0-9]{6,}.', text2)\n",
    "nums = re.findall(r'[A-Z][0-9][0-9][0-9][0-9][0-9][0-9].|[A-Z][0-9][0-9][0-9][0-9][0-9]', text2)\n",
    "dates = re.findall(r'^(0[1-9]|[12][0-9]|3[01])[- /.](0[1-9]|1[012])[- /.](19|20)\\d\\d$', text2) \n",
    "\n",
    "NAME1 = r\"[A-Z][a-z]+,?\\s+\"\n",
    "MIDDLE_I = r\"(?:[A-Z][a-z]*\\.?\\s*)?\"\n",
    "NAME2 = r\"[A-Z][a-z]+\"\n",
    "names = re.findall(NAME1 + MIDDLE_I + NAME2, text2)"
   ]
  },
  {
   "cell_type": "code",
   "execution_count": null,
   "metadata": {},
   "outputs": [],
   "source": [
    "print(\"NAME\")\n",
    "for name in names:\n",
    "\tprint(name.strip())"
   ]
  },
  {
   "cell_type": "code",
   "execution_count": null,
   "metadata": {},
   "outputs": [],
   "source": [
    "print(\"ID NUMBERS\")\n",
    "for num in nums:\n",
    "\tprint(num.strip())"
   ]
  },
  {
   "cell_type": "code",
   "execution_count": null,
   "metadata": {},
   "outputs": [],
   "source": [
    "print(\"BIRTH DATE\")\n",
    "for date in dates:\n",
    "\tprint(dates.strip())"
   ]
  }
 ],
 "metadata": {
  "interpreter": {
   "hash": "8b03d4cd05d71d535371b426da57de743181e37d8974a9636efe6e78873daaed"
  },
  "kernelspec": {
   "display_name": "Python 3.9.5 64-bit",
   "language": "python",
   "name": "python3"
  },
  "language_info": {
   "codemirror_mode": {
    "name": "ipython",
    "version": 3
   },
   "file_extension": ".py",
   "mimetype": "text/x-python",
   "name": "python",
   "nbconvert_exporter": "python",
   "pygments_lexer": "ipython3",
   "version": "3.9.5"
  },
  "orig_nbformat": 4
 },
 "nbformat": 4,
 "nbformat_minor": 2
}

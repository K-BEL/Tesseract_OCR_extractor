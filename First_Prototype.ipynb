{
 "cells": [
  {
   "cell_type": "code",
   "execution_count": 1,
   "metadata": {},
   "outputs": [],
   "source": [
    "import cv2\n",
    "import numpy as np\n",
    "import pandas as pd\n",
    "\n",
    "import pytesseract\n",
    "from pytesseract import Output\n",
    "\n",
    "import re\n",
    "\n",
    "import skimage.filters as filters\n",
    "import matplotlib.pyplot as plt\n",
    "from PIL import Image, ImageEnhance\n",
    "import PIL.Image\n",
    "\n",
    "import os, random, pathlib, warnings, itertools, math\n",
    "warnings.filterwarnings(\"ignore\")"
   ]
  },
  {
   "cell_type": "code",
   "execution_count": 2,
   "metadata": {},
   "outputs": [],
   "source": [
    "pytesseract.pytesseract.tesseract_cmd = r'C:\\Program Files\\Tesseract-OCR\\tesseract.exe'\n",
    "Testing_Data = r'C:\\Users\\LENOVO\\Desktop\\OCR_extraction\\Image_extraction\\Testing_Data'\n",
    "Testing_Data = pathlib.Path(Testing_Data)\n",
    "Front = list(Testing_Data.glob('Front/*'))\n",
    "Back = list(Testing_Data.glob('Back/*'))"
   ]
  },
  {
   "cell_type": "code",
   "execution_count": null,
   "metadata": {},
   "outputs": [],
   "source": [
    "Front[:5]"
   ]
  },
  {
   "cell_type": "code",
   "execution_count": null,
   "metadata": {},
   "outputs": [],
   "source": [
    "str(Front[:5])"
   ]
  },
  {
   "cell_type": "code",
   "execution_count": null,
   "metadata": {},
   "outputs": [],
   "source": [
    "classes = []\n",
    "for folder in os.listdir(Testing_Data):\n",
    "    classes.append(folder)\n",
    "classes"
   ]
  },
  {
   "cell_type": "code",
   "execution_count": null,
   "metadata": {},
   "outputs": [],
   "source": [
    "size = 500, 300\n",
    "im = PIL.Image.open(str(Front[1]))\n",
    "im.resize(size, Image.ANTIALIAS)"
   ]
  },
  {
   "cell_type": "code",
   "execution_count": null,
   "metadata": {},
   "outputs": [],
   "source": [
    "def plot(data_directory,number_of_images,image_folder):\n",
    "    j=1\n",
    "    for i in range(number_of_images):\n",
    "    \n",
    "        folder = os.path.join(data_directory,image_folder)\n",
    "        a=random.choice(os.listdir(folder))\n",
    "        image=PIL.Image.open(os.path.join(folder,a))\n",
    "        plt.figure(figsize=(10,10))\n",
    "        plt.subplot(number_of_images,2,j)\n",
    "        plt.title(label=image_folder, size=17, pad='7.0', loc=\"center\", fontstyle='italic')\n",
    "        plt.imshow(image)\n",
    "        j+=1\n",
    "\n",
    "for j in classes :       \n",
    "    plot(Testing_Data,1,j)"
   ]
  },
  {
   "cell_type": "code",
   "execution_count": 14,
   "metadata": {},
   "outputs": [],
   "source": [
    "orig = cv2.imread(r'C:\\Users\\LENOVO\\Desktop\\OCR_extraction\\Image_extraction\\Testing_Data\\Front\\Ec5QBA4WsAAOq7q.jpg')"
   ]
  },
  {
   "cell_type": "code",
   "execution_count": 15,
   "metadata": {},
   "outputs": [],
   "source": [
    "mask = np.zeros(orig.shape, dtype=np.uint8)\n",
    "gray = cv2.cvtColor(orig, cv2.COLOR_BGR2GRAY)\n",
    "smooth = cv2.GaussianBlur(gray, (95,95), 0)\n",
    "rgb = cv2.cvtColor(orig, cv2.COLOR_BGR2RGB)\n",
    "rgb1 = Image.frombytes('RGB', orig.shape[:2], orig, 'raw', 'BGR', 0, 0)\n",
    "division = cv2.divide(gray, smooth, scale=255)\n",
    "sharp = filters.unsharp_mask(division, radius=1.5, amount=1.5, channel_axis=False, preserve_range=False)\n",
    "sharp = (255*sharp).clip(0,255).astype(np.uint8)\n",
    "thresh = cv2.threshold(sharp, 0, 255, cv2.THRESH_BINARY + cv2.THRESH_OTSU)[1]"
   ]
  },
  {
   "cell_type": "code",
   "execution_count": 988,
   "metadata": {},
   "outputs": [],
   "source": [
    "#cv2.imshow('thresh', thresh)\n",
    "#cv2.imshow('mask', mask)"
   ]
  },
  {
   "cell_type": "code",
   "execution_count": 989,
   "metadata": {},
   "outputs": [],
   "source": [
    "# Filter for ROI using contour area and aspect ratio\n",
    "cnts = cv2.findContours(thresh, cv2.RETR_TREE, cv2.CHAIN_APPROX_SIMPLE)\n",
    "cnts = cnts[0] if len(cnts) == 2 else cnts[1]\n",
    "for c in cnts:\n",
    "    area = cv2.contourArea(c)\n",
    "    peri = cv2.arcLength(c, True)\n",
    "    approx = cv2.approxPolyDP(c, 0.05 * peri, True)\n",
    "    x,y,w,h = cv2.boundingRect(approx)\n",
    "    aspect_ratio = w / float(h)\n",
    "    if area > 2000 and aspect_ratio > .5:\n",
    "        mask[y:y+h, x:x+w] = orig[y:y+h, x:x+w]"
   ]
  },
  {
   "cell_type": "code",
   "execution_count": 990,
   "metadata": {},
   "outputs": [],
   "source": [
    "tessdata_dir_config = r'C:\\Program Files\\Tesseract-OCR\\tesseract.exe\\tessdata' \n",
    "custom_config0 = r'--oem 3 --psm 6'\n",
    "custom_config1 = r'--oem 3 --psm 11'\n",
    "custom_config2 = r'--oem 3 --psm 8'"
   ]
  },
  {
   "cell_type": "code",
   "execution_count": 991,
   "metadata": {},
   "outputs": [],
   "source": [
    "# Perfrom OCR with Pytesseract\n",
    "text1 = pytesseract.image_to_data(thresh,output_type='data.frame',lang='fra', config=custom_config1)\n",
    "text2 = pytesseract.image_to_string(thresh, lang='fra', config=custom_config1)  #mask or thresh "
   ]
  },
  {
   "cell_type": "code",
   "execution_count": null,
   "metadata": {},
   "outputs": [],
   "source": [
    "print(text2)"
   ]
  },
  {
   "cell_type": "code",
   "execution_count": 993,
   "metadata": {},
   "outputs": [],
   "source": [
    "#nums = re.findall(r'^[A-Z]{3,}[0-9]{6,}.', text2)\n",
    "nums = re.findall(r'[A-Z][0-9][0-9][0-9][0-9][0-9][0-9].|[A-Z][0-9]', text2)\n",
    "dates = re.findall(r'^(0[1-9]|[12][0-9]|3[01])[- /.](0[1-9]|1[012])[- /.](19|20)\\d\\d$', text2) #|[1-2][0-9][0-9][0-9]\n",
    "\n",
    "NAME1 = r\"[A-Z][a-z]+,?\\s+\"\n",
    "MIDDLE_I = r\"(?:[A-Z][a-z]*\\.?\\s*)?\"\n",
    "NAME2 = r\"[A-Z][a-z]+\"\n",
    "names = re.findall(NAME1 + MIDDLE_I + NAME2, text2)"
   ]
  },
  {
   "cell_type": "code",
   "execution_count": null,
   "metadata": {},
   "outputs": [],
   "source": [
    "print(\"NAME\")\n",
    "for name in names:\n",
    "\tprint(name.strip())"
   ]
  },
  {
   "cell_type": "code",
   "execution_count": null,
   "metadata": {},
   "outputs": [],
   "source": [
    "print(\"ID NUMBERS\")\n",
    "for num in nums:\n",
    "\tprint(num.strip())"
   ]
  },
  {
   "cell_type": "code",
   "execution_count": null,
   "metadata": {},
   "outputs": [],
   "source": [
    "print(\"BIRTH DATE\")\n",
    "for date in dates:\n",
    "\tprint(dates.strip())"
   ]
  },
  {
   "cell_type": "code",
   "execution_count": null,
   "metadata": {},
   "outputs": [],
   "source": [
    "plt.imshow(orig)"
   ]
  },
  {
   "cell_type": "code",
   "execution_count": 998,
   "metadata": {},
   "outputs": [],
   "source": [
    "text = text1[text1.conf != -1]\n",
    "lines = text.groupby('block_num')['text'].apply(list)\n",
    "conf = text.groupby(['block_num'])['conf'].mean()"
   ]
  },
  {
   "cell_type": "code",
   "execution_count": 999,
   "metadata": {},
   "outputs": [],
   "source": [
    "pd.set_option('max_columns', None)\n",
    "pd.set_option('display.max_rows', text.shape[0]+1)"
   ]
  },
  {
   "cell_type": "code",
   "execution_count": null,
   "metadata": {},
   "outputs": [],
   "source": [
    "print(\"text1 : \\n\")\n",
    "print(text1,\"\\n\\n\")\n",
    "\n",
    "print(\"text : \\n\")\n",
    "print(text, \"\\n\\n\")\n",
    "  \n",
    "print(\"lines : \\n\")\n",
    "for i in range(len(lines)):\n",
    "  print(\"level\", i, \": \", lines.iloc[i])\n",
    "\n",
    "print(\"\\n\\n conf : \\n\")\n",
    "print(conf)"
   ]
  },
  {
   "cell_type": "code",
   "execution_count": null,
   "metadata": {},
   "outputs": [],
   "source": [
    "d = pytesseract.image_to_data(orig, output_type=Output.DICT, lang='fra')\n",
    "print(d.keys())"
   ]
  },
  {
   "cell_type": "code",
   "execution_count": 1002,
   "metadata": {},
   "outputs": [],
   "source": [
    "# Get bounding box estimates\n",
    "#print(pytesseract.image_to_boxes(Image.open(orig)))\n",
    "\n",
    "# Get verbose data including boxes, confidences, line and page numbers\n",
    "#print(pytesseract.image_to_data(Image.open(orig)))\n",
    "\n",
    "# Get information about orientation and script detection\n",
    "#print(pytesseract.image_to_osd(Image.open(orig)))"
   ]
  },
  {
   "cell_type": "code",
   "execution_count": 1003,
   "metadata": {},
   "outputs": [],
   "source": [
    "def display(img,cmap='gray'):\n",
    "    fig = plt.figure(figsize=(12,10))\n",
    "    ax = fig.add_subplot(111)\n",
    "    ax.imshow(img,cmap='gray')"
   ]
  },
  {
   "cell_type": "code",
   "execution_count": null,
   "metadata": {},
   "outputs": [],
   "source": [
    "n_boxes = len(text1['text'])\n",
    "for i in range(n_boxes):\n",
    "    if int(text1['conf'][i]) > 45:\n",
    "        (x, y, w, h) = (text1['left'][i], text1['top'][i], text1['width'][i], text1['height'][i])\n",
    "        img = cv2.rectangle(orig, (x, y), (x + w, y + h), (0, 255, 0), 2)\n",
    "\n",
    "display(orig)"
   ]
  }
 ],
 "metadata": {
  "interpreter": {
   "hash": "8b03d4cd05d71d535371b426da57de743181e37d8974a9636efe6e78873daaed"
  },
  "kernelspec": {
   "display_name": "Python 3.9.5 64-bit",
   "language": "python",
   "name": "python3"
  },
  "language_info": {
   "codemirror_mode": {
    "name": "ipython",
    "version": 3
   },
   "file_extension": ".py",
   "mimetype": "text/x-python",
   "name": "python",
   "nbconvert_exporter": "python",
   "pygments_lexer": "ipython3",
   "version": "3.9.5"
  },
  "orig_nbformat": 4
 },
 "nbformat": 4,
 "nbformat_minor": 2
}

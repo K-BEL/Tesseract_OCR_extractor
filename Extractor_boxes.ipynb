{
 "cells": [
  {
   "cell_type": "code",
   "execution_count": 73,
   "metadata": {},
   "outputs": [],
   "source": [
    "import cv2\n",
    "import numpy as np\n",
    "import pandas as pd\n",
    "\n",
    "import pytesseract\n",
    "from pytesseract import Output\n",
    "\n",
    "import re\n",
    "\n",
    "import skimage.filters as filters\n",
    "import matplotlib.pyplot as plt\n",
    "from PIL import Image, ImageEnhance\n",
    "import PIL.Image\n",
    "\n",
    "import os, random, pathlib, warnings, itertools, math\n",
    "warnings.filterwarnings(\"ignore\")\n",
    "\n",
    "import import_ipynb\n",
    "#from ipynb.fs.full.Extractor_string import img\n",
    "#from ipynb.fs.full.data_exploring import orig1"
   ]
  },
  {
   "cell_type": "code",
   "execution_count": 74,
   "metadata": {},
   "outputs": [],
   "source": [
    "pytesseract.pytesseract.tesseract_cmd = r'E:\\Programmes\\Tesseract-OCR\\tesseract.exe'"
   ]
  },
  {
   "cell_type": "code",
   "execution_count": null,
   "metadata": {},
   "outputs": [],
   "source": [
    "img = cv2.imread(r'C:\\Users\\LENOVO\\Desktop\\OCR_extraction\\Image_extraction\\Testing_Data\\Front\\Ec5QBA4WsAAOq7q.jpg')\n",
    "plt.imshow(img)"
   ]
  },
  {
   "cell_type": "code",
   "execution_count": 76,
   "metadata": {},
   "outputs": [],
   "source": [
    "def preprocessing_typing_detection(img):\n",
    "    mask = np.zeros(img.shape, dtype=np.uint8)\n",
    "    gray = cv2.cvtColor(img, cv2.COLOR_BGR2GRAY)\n",
    "    smooth = cv2.GaussianBlur(gray, (95,95), 0)\n",
    "    rgb = cv2.cvtColor(img, cv2.COLOR_BGR2RGB)\n",
    "    rgb1 = Image.frombytes('RGB', img.shape[:2], img, 'raw', 'BGR', 0, 0)\n",
    "    division = cv2.divide(gray, smooth, scale=255)\n",
    "    sharp = filters.unsharp_mask(division, radius=1.5, amount=1.5, channel_axis=False, preserve_range=False)\n",
    "    sharp = (255*sharp).clip(0,255).astype(np.uint8)\n",
    "    thresh = cv2.threshold(sharp, 0, 255, cv2.THRESH_BINARY + cv2.THRESH_OTSU)[1]\n",
    "    return thresh"
   ]
  },
  {
   "cell_type": "code",
   "execution_count": 77,
   "metadata": {},
   "outputs": [],
   "source": [
    "def preprocessing_typing_detection1(inputImage):\n",
    "    gray= cv2.cvtColor(inputImage, cv2.COLOR_BGR2GRAY)\n",
    "    img= cv2.Laplacian(gray, cv2.CV_8U)\n",
    "    return img"
   ]
  },
  {
   "cell_type": "code",
   "execution_count": 78,
   "metadata": {},
   "outputs": [],
   "source": [
    "thresh = preprocessing_typing_detection(img)\n",
    "#img = preprocessing_typing_detection1(img)"
   ]
  },
  {
   "cell_type": "code",
   "execution_count": 79,
   "metadata": {},
   "outputs": [],
   "source": [
    "tessdata_dir_config = r'E:\\Programmes\\Tesseract-OCR\\tesseract.exe\\tessdata' \n",
    "tessdata_dir_config1 = r'E:\\Programmes\\Tesseract-OCR\\tesseract.exe\\tessdata_fast' \n",
    "tessdata_dir_config2 = r'E:\\Programmes\\Tesseract-OCR\\tesseract.exe\\tessdata_best' \n",
    "custom_config0 = r'--oem 3 --psm 6'\n",
    "custom_config1 = r'--oem 3 --psm 11'\n",
    "custom_config2 = r'--oem 3 --psm 8'\n",
    "custom_config3 = r'--oem 3 --psm 6'"
   ]
  },
  {
   "cell_type": "code",
   "execution_count": 80,
   "metadata": {},
   "outputs": [],
   "source": [
    "#text1 = pytesseract.image_to_data(thresh,output_type='data.frame',lang='fra', config=custom_config1)"
   ]
  },
  {
   "cell_type": "code",
   "execution_count": 82,
   "metadata": {},
   "outputs": [],
   "source": [
    "hImg,wImg,_= img.shape\n",
    "boxes = pytesseract.image_to_boxes(thresh)"
   ]
  },
  {
   "cell_type": "code",
   "execution_count": null,
   "metadata": {},
   "outputs": [],
   "source": [
    "for b in boxes.splitlines():\n",
    "    print(b)\n",
    "    b = b.split(' ')\n",
    "    print(b)\n",
    "    x, y, w, h = int(b[1]), int(b[2]), int(b[3]), int(b[4])\n",
    "    cv2.rectangle(img, (x,hImg- y), (w,hImg- h), (50, 50, 255), 2)\n",
    "    cv2.putText(img,b[0],(x,hImg- y+25),cv2.FONT_HERSHEY_SIMPLEX,1,(50,50,255),2)\n",
    " \n",
    "cv2.imshow(\"Image\", img)\n",
    "cv2.waitKey(0)"
   ]
  }
 ],
 "metadata": {
  "interpreter": {
   "hash": "e31aef8222fb7c235d2ed8e74ce17e973738f89b37261e7466b7a63a6dfb1214"
  },
  "kernelspec": {
   "display_name": "Python 3.9.5 64-bit",
   "language": "python",
   "name": "python3"
  },
  "language_info": {
   "codemirror_mode": {
    "name": "ipython",
    "version": 3
   },
   "file_extension": ".py",
   "mimetype": "text/x-python",
   "name": "python",
   "nbconvert_exporter": "python",
   "pygments_lexer": "ipython3",
   "version": "3.9.5"
  },
  "orig_nbformat": 4
 },
 "nbformat": 4,
 "nbformat_minor": 2
}

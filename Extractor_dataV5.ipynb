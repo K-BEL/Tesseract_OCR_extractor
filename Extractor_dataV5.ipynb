{
 "cells": [
  {
   "cell_type": "code",
   "execution_count": 1,
   "metadata": {},
   "outputs": [],
   "source": [
    "import cv2\n",
    "import numpy as np\n",
    "import pandas as pd\n",
    "\n",
    "import pytesseract\n",
    "from pytesseract import Output\n",
    "\n",
    "import re\n",
    "\n",
    "import skimage.filters as filters\n",
    "import matplotlib.pyplot as plt\n",
    "from PIL import Image, ImageEnhance\n",
    "import PIL.Image\n",
    "\n",
    "import os, random, pathlib, warnings, itertools, math, argparse, imutils\n",
    "warnings.filterwarnings(\"ignore\")\n",
    "\n",
    "import import_ipynb\n",
    "#from ipynb.fs.full.Extractor_string import img\n",
    "#from ipynb.fs.full.data_exploring import orig1"
   ]
  },
  {
   "cell_type": "code",
   "execution_count": 2,
   "metadata": {},
   "outputs": [],
   "source": [
    "pytesseract.pytesseract.tesseract_cmd = r'E:\\Programmes\\Tesseract-OCR\\tesseract.exe'"
   ]
  },
  {
   "cell_type": "markdown",
   "metadata": {},
   "source": [
    "ap = argparse.ArgumentParser()\n",
    " \n",
    "ap.add_argument(\"-i\", \"--image\",\n",
    "                required=True,\n",
    "                help=r'path to image')\n",
    "ap.add_argument(\"-c\", \"--min-conf\",\n",
    "                type=int, default=0,\n",
    "                help=\"minimum confidence value to filter weak text detection\")\n",
    "args = vars(ap.parse_args())"
   ]
  },
  {
   "cell_type": "code",
   "execution_count": null,
   "metadata": {},
   "outputs": [],
   "source": [
    "img = cv2.imread(r'C:\\Users\\LENOVO\\Desktop\\b.jpg')\n",
    "#img = cv2.imread(args[\"image\"])\n",
    "plt.imshow(img)"
   ]
  },
  {
   "cell_type": "code",
   "execution_count": 4,
   "metadata": {},
   "outputs": [],
   "source": [
    "def preprocessing_typing_detection(img):\n",
    "    mask = np.zeros(img.shape, dtype=np.uint8)\n",
    "    gray = cv2.cvtColor(img, cv2.COLOR_BGR2GRAY)\n",
    "    smooth = cv2.GaussianBlur(gray, (95,95), 0)\n",
    "    rgb = cv2.cvtColor(img, cv2.COLOR_BGR2RGB)\n",
    "    rgb1 = Image.frombytes('RGB', img.shape[:2], img, 'raw', 'BGR', 0, 0)\n",
    "    division = cv2.divide(gray, smooth, scale=255)\n",
    "    sharp = filters.unsharp_mask(division, radius=1.5, amount=1.5, channel_axis=False, preserve_range=False)\n",
    "    sharp = (255*sharp).clip(0,255).astype(np.uint8)\n",
    "    thresh = cv2.threshold(sharp, 0, 255, cv2.THRESH_BINARY + cv2.THRESH_OTSU)[1]\n",
    "    return thresh\n",
    "\n",
    "def preprocessing_typing_detection1(inputImage):\n",
    "    gray= cv2.cvtColor(inputImage, cv2.COLOR_BGR2GRAY)\n",
    "    img= cv2.Laplacian(gray, cv2.CV_8U)\n",
    "    return img\n",
    "\n",
    "def preprocessing_typing_detection2(inputImage):\n",
    "    image = imutils.resize(inputImage, height = 300)\n",
    "    gray = cv2.cvtColor(image, cv2.COLOR_BGR2GRAY)\n",
    "    gray = cv2.bilateralFilter(gray, 11, 17, 17)\n",
    "    edged = cv2.Canny(gray, 30, 200)\n",
    "    return edged\n",
    "\n",
    "def preprocessing_typing_detection3(inputImage):\n",
    "    gray = cv2.cvtColor(inputImage, cv2.COLOR_BGR2GRAY)\n",
    "    blurred = cv2.GaussianBlur(gray, (3, 3), 0)\n",
    "    canny = cv2.Canny(blurred, 120, 255, 1)\n",
    "    return canny\n",
    "\n",
    "def preprocessing_typing_detection4(inputImage):\n",
    "    gray = cv2.cvtColor(inputImage, cv2.COLOR_BGR2GRAY)\n",
    "    _,thresh = cv2.threshold(gray,128,255,cv2.THRESH_BINARY)\n",
    "    thresh = cv2.bitwise_not(thresh)\n",
    "    element = cv2.getStructuringElement(shape=cv2.MORPH_RECT, ksize=(7, 7))\n",
    "    dilate = cv2.dilate(thresh,element,6)\n",
    "    erode = cv2.erode(dilate,element,6)\n",
    "    morph_img = thresh.copy()\n",
    "    cv2.morphologyEx(src=erode, op=cv2.MORPH_CLOSE, kernel=element, dst=morph_img)\n",
    "    return morph_img\n",
    "\n",
    "def preprocessing_typing_detection5(inputImage):\n",
    "    gray = cv2.cvtColor(img, cv2.COLOR_BGR2GRAY)\n",
    "    # Remove shadows\n",
    "    dilated_img = cv2.dilate(gray, np.ones((7, 7), np.uint8))\n",
    "    bg_img = cv2.medianBlur(dilated_img, 21)\n",
    "    diff_img = 255 - cv2.absdiff(gray, bg_img)\n",
    "    norm_img = cv2.normalize(diff_img, None, alpha=0, beta=255,\n",
    "                            norm_type=cv2.NORM_MINMAX, dtype=cv2.CV_8UC1)\n",
    "    # Threshold using Otsu's\n",
    "    work_img = cv2.threshold(norm_img, 0, 255, cv2.THRESH_OTSU)[1]\n",
    "    return work_img\n",
    "\n",
    "def get_string(img):\n",
    "    gray = cv2.cvtColor(img, cv2.COLOR_BGR2GRAY)\n",
    "    kernel = np.ones((1,1), np.uint8)\n",
    "    dil = cv2.dilate(gray, kernel, iterations = 1)\n",
    "    img_f = cv2.erode(dil, kernel, iterations = 1)\n",
    "    return img_f"
   ]
  },
  {
   "cell_type": "code",
   "execution_count": 5,
   "metadata": {},
   "outputs": [],
   "source": [
    "thresh = preprocessing_typing_detection(img)\n",
    "#img = preprocessing_typing_detection1(img)\n",
    "#edged = preprocessing_typing_detection2(img)\n",
    "#canny = preprocessing_typing_detection3(img)\n",
    "morph_img = preprocessing_typing_detection4(img)\n",
    "work_img = preprocessing_typing_detection5(img)\n",
    "#img_f = get_string(img)"
   ]
  },
  {
   "cell_type": "code",
   "execution_count": 6,
   "metadata": {},
   "outputs": [],
   "source": [
    "cv2.imshow('t',thresh)"
   ]
  },
  {
   "cell_type": "code",
   "execution_count": null,
   "metadata": {},
   "outputs": [],
   "source": [
    "plt.imshow(thresh)"
   ]
  },
  {
   "cell_type": "code",
   "execution_count": 8,
   "metadata": {},
   "outputs": [],
   "source": [
    "tessdata_dir_config = r'E:\\Programmes\\Tesseract-OCR\\tesseract.exe\\tessdata' \n",
    "tessdata_dir_config1 = r'E:\\Programmes\\Tesseract-OCR\\tesseract.exe\\tessdata_fast' \n",
    "tessdata_dir_config2 = r'E:\\Programmes\\Tesseract-OCR\\tesseract.exe\\tessdata_best' \n",
    "custom_config0 = r'--oem 3 --psm 6'\n",
    "custom_config1 = r'--oem 3 --psm 11'\n",
    "custom_config2 = r'--oem 3 --psm 8'\n",
    "custom_config3 = r'--oem 1 --psm 3'"
   ]
  },
  {
   "cell_type": "code",
   "execution_count": 9,
   "metadata": {},
   "outputs": [],
   "source": [
    "liste = [tessdata_dir_config, tessdata_dir_config1, tessdata_dir_config2, custom_config0, custom_config1, custom_config2, custom_config3]"
   ]
  },
  {
   "cell_type": "code",
   "execution_count": 10,
   "metadata": {},
   "outputs": [],
   "source": [
    "# #[   0          1           2           3           4          5         6       7       8        9        10       11 ]\n",
    "# #['level', 'page_num', 'block_num', 'par_num', 'line_num', 'word_num', 'left', 'top', 'width', 'height', 'conf', 'text']"
   ]
  },
  {
   "cell_type": "code",
   "execution_count": 11,
   "metadata": {},
   "outputs": [],
   "source": [
    "def tessdata(img, par):\n",
    "    #d = pytesseract.image_to_data(img)\n",
    "    \n",
    "    d = pytesseract.image_to_data(img, lang='eng', config=par, output_type=Output.DICT) #thresh\n",
    "    \n",
    "    return d"
   ]
  },
  {
   "cell_type": "code",
   "execution_count": 12,
   "metadata": {},
   "outputs": [],
   "source": [
    "def tessdata1(img, par):\n",
    "    text2 = pytesseract.image_to_string(img, lang='eng', config=par)  #mask or thresh \n",
    "    #print(text2) #thresh\n",
    "    #return text2\n",
    "    nums = re.findall(r'[A-Z][A-Z][0-9][0-9][0-9][0-9][0-9][0-9].|[A-Z][0-9][0-9][0-9][0-9][0-9][0-9][0-9]', text2)\n",
    "    return nums"
   ]
  },
  {
   "cell_type": "code",
   "execution_count": 13,
   "metadata": {},
   "outputs": [],
   "source": [
    "def spacebar(list):\n",
    "    L = []\n",
    "    for i in list:\n",
    "        j = i.replace(' ','')\n",
    "        L.append(j)\n",
    "    return L"
   ]
  },
  {
   "cell_type": "code",
   "execution_count": 14,
   "metadata": {},
   "outputs": [],
   "source": [
    "def extraction(img1, img2, par1, par2):\n",
    "    d = tessdata(img1, par1)\n",
    "    #print(d)\n",
    "    nums = tessdata1(img2, par2)\n",
    "    L = spacebar(nums)\n",
    "    #print(L)\n",
    "    #f = L[0]\n",
    "    #text = None\n",
    "    #conf = 0\n",
    "    #M = 0,0,0,0\n",
    "    return d, L"
   ]
  },
  {
   "cell_type": "code",
   "execution_count": 15,
   "metadata": {},
   "outputs": [],
   "source": [
    "d, L = extraction(img,img,tessdata_dir_config1,tessdata_dir_config1)"
   ]
  },
  {
   "cell_type": "code",
   "execution_count": null,
   "metadata": {},
   "outputs": [],
   "source": [
    "print(L)"
   ]
  },
  {
   "cell_type": "code",
   "execution_count": 17,
   "metadata": {},
   "outputs": [],
   "source": [
    "def param(d, L):\n",
    "    for i in range(0, len(d[\"text\"])):\n",
    "        x = d[\"left\"][i]\n",
    "        y = d[\"top\"][i]\n",
    "        w = d[\"width\"][i]\n",
    "        h = d[\"height\"][i]\n",
    "\n",
    "        text = d[\"text\"][i]\n",
    "        conf = int(float(d[\"conf\"][i]))\n",
    "        M = x, y, w, h\n",
    "        \n",
    "        #while conf > 40:\n",
    "        #for i in L:\n",
    "        if str(L[0]) == str(text) :\n",
    "            return conf, text, M\n",
    "            break\n",
    "        else :\n",
    "            continue"
   ]
  },
  {
   "cell_type": "code",
   "execution_count": 18,
   "metadata": {},
   "outputs": [],
   "source": [
    "def box(conf, text, par):\n",
    "    x, y, w, h = par\n",
    "    text = \"\".join(text).strip()\n",
    "    cv2.rectangle(img,\n",
    "                (x, y),\n",
    "                (x + w, y + h),\n",
    "                (0, 0, 255), 2)\n",
    "    cv2.putText(img,\n",
    "                text,\n",
    "                (x, y - 10),\n",
    "                cv2.FONT_HERSHEY_SIMPLEX,\n",
    "                1.2, (0, 255, 255), 3)\n",
    "    cv2.imshow(\"Image\", img)\n",
    "    cv2.waitKey(0)\n",
    "    return(\"Confidence: {}\".format(conf), \"Text: {}\".format(text))"
   ]
  },
  {
   "cell_type": "code",
   "execution_count": 19,
   "metadata": {},
   "outputs": [],
   "source": [
    "def Localise():\n",
    "    for a in liste:\n",
    "        for b in liste : \n",
    "            d, L = extraction(img,img,a,b)\n",
    "            print(L)\n",
    "            if L !=[] :\n",
    "                for i in range(0, len(d[\"text\"])):\n",
    "                    x = d[\"left\"][i]\n",
    "                    y = d[\"top\"][i]\n",
    "                    w = d[\"width\"][i]\n",
    "                    h = d[\"height\"][i]\n",
    "                    text = d[\"text\"][i]\n",
    "                    conf = int(float(d[\"conf\"][i]))\n",
    "                    M = x, y, w, h\n",
    "                    if str(L[0]) == str(text) and (conf is not None) and (text is not None) and (M is not None) :\n",
    "                        return (conf, text, M)                            \n",
    "                        break\n",
    "                    else :\n",
    "                        continue\n",
    "                    break\n",
    "            else :\n",
    "                continue"
   ]
  },
  {
   "cell_type": "markdown",
   "metadata": {},
   "source": [
    "d, L = extraction(thresh,thresh,tessdata_dir_config,tessdata_dir_config)"
   ]
  },
  {
   "cell_type": "code",
   "execution_count": null,
   "metadata": {},
   "outputs": [],
   "source": [
    "conf, text, M = Localise()"
   ]
  },
  {
   "cell_type": "code",
   "execution_count": null,
   "metadata": {},
   "outputs": [],
   "source": [
    "print(M)"
   ]
  },
  {
   "cell_type": "code",
   "execution_count": null,
   "metadata": {},
   "outputs": [],
   "source": [
    "box(conf, text, M)"
   ]
  },
  {
   "cell_type": "code",
   "execution_count": null,
   "metadata": {},
   "outputs": [],
   "source": [
    "plt.imshow(img)"
   ]
  }
 ],
 "metadata": {
  "interpreter": {
   "hash": "e31aef8222fb7c235d2ed8e74ce17e973738f89b37261e7466b7a63a6dfb1214"
  },
  "kernelspec": {
   "display_name": "Python 3.9.5 64-bit",
   "language": "python",
   "name": "python3"
  },
  "language_info": {
   "codemirror_mode": {
    "name": "ipython",
    "version": 3
   },
   "file_extension": ".py",
   "mimetype": "text/x-python",
   "name": "python",
   "nbconvert_exporter": "python",
   "pygments_lexer": "ipython3",
   "version": "3.9.5"
  },
  "orig_nbformat": 4
 },
 "nbformat": 4,
 "nbformat_minor": 2
}
